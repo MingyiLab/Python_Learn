{
 "cells": [
  {
   "cell_type": "code",
   "execution_count": 1,
   "metadata": {},
   "outputs": [],
   "source": [
    "# Function: calculate and sum up land sales merged with generator data\n",
    "# Date: 2021-7-25\n",
    "# Output Dataset： land_dataset.xlsx"
   ]
  },
  {
   "cell_type": "code",
   "execution_count": 2,
   "metadata": {},
   "outputs": [],
   "source": [
    "import numpy as np\n",
    "import pandas as pd"
   ]
  },
  {
   "cell_type": "code",
   "execution_count": 3,
   "metadata": {},
   "outputs": [
    {
     "name": "stderr",
     "output_type": "stream",
     "text": [
      "C:\\ProgramData\\Anaconda3\\lib\\site-packages\\IPython\\core\\interactiveshell.py:3338: DtypeWarning: Columns (13,14,15,16) have mixed types.Specify dtype option on import or set low_memory=False.\n",
      "  if (await self.run_code(code, result,  async_=asy)):\n"
     ]
    }
   ],
   "source": [
    "dataset = pd.read_table('Z:/User/Documents/land/land2.txt', delimiter=',')"
   ]
  },
  {
   "cell_type": "code",
   "execution_count": 4,
   "metadata": {},
   "outputs": [
    {
     "data": {
      "text/plain": [
       "Index(['OBJECTID', 'Join_Count', 'TARGET_FID', 'JOIN_FID', '省份', '城市', '区县',\n",
       "       '行业分公', '土地级公', '成交价公', '土地价公_1', '经度', '纬度', '约定交公', '约定开公', '约定竣公',\n",
       "       '合同签公', 'chname', 'ename', 'gbcode', 'code'],\n",
       "      dtype='object')"
      ]
     },
     "execution_count": 4,
     "metadata": {},
     "output_type": "execute_result"
    }
   ],
   "source": [
    "dataset.columns"
   ]
  },
  {
   "cell_type": "code",
   "execution_count": 5,
   "metadata": {},
   "outputs": [],
   "source": [
    "dataset2 = dataset.reindex(['省份','城市','合同签公','chname','gbcode'], axis=1)"
   ]
  },
  {
   "cell_type": "code",
   "execution_count": 6,
   "metadata": {},
   "outputs": [],
   "source": [
    "dataset2 = dataset2[dataset2['合同签公'].notna()]"
   ]
  },
  {
   "cell_type": "code",
   "execution_count": 7,
   "metadata": {},
   "outputs": [],
   "source": [
    "import re"
   ]
  },
  {
   "cell_type": "code",
   "execution_count": 8,
   "metadata": {},
   "outputs": [],
   "source": [
    "def check_num(s):\n",
    "    pattern = r'[^0-9.]+'\n",
    "    pattern = re.compile(pattern)\n",
    "    res = ''.join(pattern.findall(s)[:])\n",
    "    return res"
   ]
  },
  {
   "cell_type": "code",
   "execution_count": 9,
   "metadata": {},
   "outputs": [
    {
     "ename": "SyntaxError",
     "evalue": "unexpected EOF while parsing (<ipython-input-9-506d0f313afd>, line 6)",
     "output_type": "error",
     "traceback": [
      "\u001b[1;36m  File \u001b[1;32m\"<ipython-input-9-506d0f313afd>\"\u001b[1;36m, line \u001b[1;32m6\u001b[0m\n\u001b[1;33m    \u001b[0m\n\u001b[1;37m    ^\u001b[0m\n\u001b[1;31mSyntaxError\u001b[0m\u001b[1;31m:\u001b[0m unexpected EOF while parsing\n"
     ]
    }
   ],
   "source": [
    "def check_letter(s):\n",
    "    pattern = r'[^a-zA-Z]'\n",
    "    pattern = re.compile(pattern)\n",
    "    res = pattern.findall(s)\n",
    "    if res is None:\n",
    "        "
   ]
  },
  {
   "cell_type": "code",
   "execution_count": 10,
   "metadata": {},
   "outputs": [],
   "source": [
    "dataset3 = dataset2[dataset2.index<=1103104]"
   ]
  },
  {
   "cell_type": "code",
   "execution_count": 11,
   "metadata": {},
   "outputs": [],
   "source": [
    "dataset3.index = pd.to_datetime(dataset3['合同签公'])"
   ]
  },
  {
   "cell_type": "code",
   "execution_count": 12,
   "metadata": {},
   "outputs": [
    {
     "name": "stderr",
     "output_type": "stream",
     "text": [
      "<ipython-input-12-a754d5acc132>:1: SettingWithCopyWarning: \n",
      "A value is trying to be set on a copy of a slice from a DataFrame.\n",
      "Try using .loc[row_indexer,col_indexer] = value instead\n",
      "\n",
      "See the caveats in the documentation: https://pandas.pydata.org/pandas-docs/stable/user_guide/indexing.html#returning-a-view-versus-a-copy\n",
      "  dataset3['year'] = dataset3.to_period(freq='A').index\n"
     ]
    }
   ],
   "source": [
    "dataset3['year'] = dataset3.to_period(freq='A').index"
   ]
  },
  {
   "cell_type": "code",
   "execution_count": 13,
   "metadata": {},
   "outputs": [
    {
     "name": "stderr",
     "output_type": "stream",
     "text": [
      "<ipython-input-13-f997ef3bffd2>:1: SettingWithCopyWarning: \n",
      "A value is trying to be set on a copy of a slice from a DataFrame.\n",
      "Try using .loc[row_indexer,col_indexer] = value instead\n",
      "\n",
      "See the caveats in the documentation: https://pandas.pydata.org/pandas-docs/stable/user_guide/indexing.html#returning-a-view-versus-a-copy\n",
      "  dataset3['dummy'] = 1\n"
     ]
    }
   ],
   "source": [
    "dataset3['dummy'] = 1"
   ]
  },
  {
   "cell_type": "code",
   "execution_count": 14,
   "metadata": {},
   "outputs": [],
   "source": [
    "dataset4 = dataset3.groupby(['gbcode','year'])['合同签公'].count().reset_index()"
   ]
  },
  {
   "cell_type": "code",
   "execution_count": 18,
   "metadata": {},
   "outputs": [],
   "source": [
    "cities = dataset3[['gbcode','省份']].reset_index()[['gbcode','省份']]"
   ]
  },
  {
   "cell_type": "code",
   "execution_count": 19,
   "metadata": {},
   "outputs": [
    {
     "data": {
      "text/html": [
       "<div>\n",
       "<style scoped>\n",
       "    .dataframe tbody tr th:only-of-type {\n",
       "        vertical-align: middle;\n",
       "    }\n",
       "\n",
       "    .dataframe tbody tr th {\n",
       "        vertical-align: top;\n",
       "    }\n",
       "\n",
       "    .dataframe thead th {\n",
       "        text-align: right;\n",
       "    }\n",
       "</style>\n",
       "<table border=\"1\" class=\"dataframe\">\n",
       "  <thead>\n",
       "    <tr style=\"text-align: right;\">\n",
       "      <th></th>\n",
       "      <th>gbcode</th>\n",
       "      <th>省份</th>\n",
       "    </tr>\n",
       "  </thead>\n",
       "  <tbody>\n",
       "    <tr>\n",
       "      <th>0</th>\n",
       "      <td>110103.0</td>\n",
       "      <td>北京市</td>\n",
       "    </tr>\n",
       "    <tr>\n",
       "      <th>1</th>\n",
       "      <td>110101.0</td>\n",
       "      <td>北京市</td>\n",
       "    </tr>\n",
       "    <tr>\n",
       "      <th>2</th>\n",
       "      <td>110105.0</td>\n",
       "      <td>北京市</td>\n",
       "    </tr>\n",
       "    <tr>\n",
       "      <th>3</th>\n",
       "      <td>110101.0</td>\n",
       "      <td>北京市</td>\n",
       "    </tr>\n",
       "    <tr>\n",
       "      <th>4</th>\n",
       "      <td>110101.0</td>\n",
       "      <td>北京市</td>\n",
       "    </tr>\n",
       "    <tr>\n",
       "      <th>...</th>\n",
       "      <td>...</td>\n",
       "      <td>...</td>\n",
       "    </tr>\n",
       "    <tr>\n",
       "      <th>1103100</th>\n",
       "      <td>430581.0</td>\n",
       "      <td>湖南省</td>\n",
       "    </tr>\n",
       "    <tr>\n",
       "      <th>1103101</th>\n",
       "      <td>430521.0</td>\n",
       "      <td>湖南省</td>\n",
       "    </tr>\n",
       "    <tr>\n",
       "      <th>1103102</th>\n",
       "      <td>430521.0</td>\n",
       "      <td>湖南省</td>\n",
       "    </tr>\n",
       "    <tr>\n",
       "      <th>1103103</th>\n",
       "      <td>430521.0</td>\n",
       "      <td>湖南省</td>\n",
       "    </tr>\n",
       "    <tr>\n",
       "      <th>1103104</th>\n",
       "      <td>430521.0</td>\n",
       "      <td>湖南省</td>\n",
       "    </tr>\n",
       "  </tbody>\n",
       "</table>\n",
       "<p>1103105 rows × 2 columns</p>\n",
       "</div>"
      ],
      "text/plain": [
       "           gbcode   省份\n",
       "0        110103.0  北京市\n",
       "1        110101.0  北京市\n",
       "2        110105.0  北京市\n",
       "3        110101.0  北京市\n",
       "4        110101.0  北京市\n",
       "...           ...  ...\n",
       "1103100  430581.0  湖南省\n",
       "1103101  430521.0  湖南省\n",
       "1103102  430521.0  湖南省\n",
       "1103103  430521.0  湖南省\n",
       "1103104  430521.0  湖南省\n",
       "\n",
       "[1103105 rows x 2 columns]"
      ]
     },
     "execution_count": 19,
     "metadata": {},
     "output_type": "execute_result"
    }
   ],
   "source": [
    "cities"
   ]
  },
  {
   "cell_type": "code",
   "execution_count": 20,
   "metadata": {},
   "outputs": [
    {
     "data": {
      "text/html": [
       "<div>\n",
       "<style scoped>\n",
       "    .dataframe tbody tr th:only-of-type {\n",
       "        vertical-align: middle;\n",
       "    }\n",
       "\n",
       "    .dataframe tbody tr th {\n",
       "        vertical-align: top;\n",
       "    }\n",
       "\n",
       "    .dataframe thead th {\n",
       "        text-align: right;\n",
       "    }\n",
       "</style>\n",
       "<table border=\"1\" class=\"dataframe\">\n",
       "  <thead>\n",
       "    <tr style=\"text-align: right;\">\n",
       "      <th></th>\n",
       "      <th>gbcode</th>\n",
       "      <th>year</th>\n",
       "      <th>合同签公</th>\n",
       "      <th>省份</th>\n",
       "    </tr>\n",
       "  </thead>\n",
       "  <tbody>\n",
       "    <tr>\n",
       "      <th>0</th>\n",
       "      <td>110101.0</td>\n",
       "      <td>2002</td>\n",
       "      <td>7</td>\n",
       "      <td>北京市</td>\n",
       "    </tr>\n",
       "    <tr>\n",
       "      <th>1</th>\n",
       "      <td>110101.0</td>\n",
       "      <td>2002</td>\n",
       "      <td>7</td>\n",
       "      <td>北京市</td>\n",
       "    </tr>\n",
       "    <tr>\n",
       "      <th>2</th>\n",
       "      <td>110101.0</td>\n",
       "      <td>2002</td>\n",
       "      <td>7</td>\n",
       "      <td>北京市</td>\n",
       "    </tr>\n",
       "    <tr>\n",
       "      <th>3</th>\n",
       "      <td>110101.0</td>\n",
       "      <td>2002</td>\n",
       "      <td>7</td>\n",
       "      <td>北京市</td>\n",
       "    </tr>\n",
       "    <tr>\n",
       "      <th>4</th>\n",
       "      <td>110101.0</td>\n",
       "      <td>2002</td>\n",
       "      <td>7</td>\n",
       "      <td>北京市</td>\n",
       "    </tr>\n",
       "    <tr>\n",
       "      <th>...</th>\n",
       "      <td>...</td>\n",
       "      <td>...</td>\n",
       "      <td>...</td>\n",
       "      <td>...</td>\n",
       "    </tr>\n",
       "    <tr>\n",
       "      <th>16042932</th>\n",
       "      <td>659004.0</td>\n",
       "      <td>2018</td>\n",
       "      <td>2</td>\n",
       "      <td>新疆建设兵团</td>\n",
       "    </tr>\n",
       "    <tr>\n",
       "      <th>16042933</th>\n",
       "      <td>659004.0</td>\n",
       "      <td>2018</td>\n",
       "      <td>2</td>\n",
       "      <td>新疆建设兵团</td>\n",
       "    </tr>\n",
       "    <tr>\n",
       "      <th>16042934</th>\n",
       "      <td>659004.0</td>\n",
       "      <td>2018</td>\n",
       "      <td>2</td>\n",
       "      <td>新疆建设兵团</td>\n",
       "    </tr>\n",
       "    <tr>\n",
       "      <th>16042935</th>\n",
       "      <td>659004.0</td>\n",
       "      <td>2018</td>\n",
       "      <td>2</td>\n",
       "      <td>新疆建设兵团</td>\n",
       "    </tr>\n",
       "    <tr>\n",
       "      <th>16042936</th>\n",
       "      <td>659004.0</td>\n",
       "      <td>2018</td>\n",
       "      <td>2</td>\n",
       "      <td>新疆建设兵团</td>\n",
       "    </tr>\n",
       "  </tbody>\n",
       "</table>\n",
       "<p>16042937 rows × 4 columns</p>\n",
       "</div>"
      ],
      "text/plain": [
       "            gbcode  year  合同签公      省份\n",
       "0         110101.0  2002     7     北京市\n",
       "1         110101.0  2002     7     北京市\n",
       "2         110101.0  2002     7     北京市\n",
       "3         110101.0  2002     7     北京市\n",
       "4         110101.0  2002     7     北京市\n",
       "...            ...   ...   ...     ...\n",
       "16042932  659004.0  2018     2  新疆建设兵团\n",
       "16042933  659004.0  2018     2  新疆建设兵团\n",
       "16042934  659004.0  2018     2  新疆建设兵团\n",
       "16042935  659004.0  2018     2  新疆建设兵团\n",
       "16042936  659004.0  2018     2  新疆建设兵团\n",
       "\n",
       "[16042937 rows x 4 columns]"
      ]
     },
     "execution_count": 20,
     "metadata": {},
     "output_type": "execute_result"
    }
   ],
   "source": [
    "dataset4.merge(cities, how = 'inner')"
   ]
  },
  {
   "cell_type": "code",
   "execution_count": 21,
   "metadata": {},
   "outputs": [],
   "source": [
    "dataset4['year'] = dataset4['year'].astype('str').astype('int64')"
   ]
  },
  {
   "cell_type": "code",
   "execution_count": 22,
   "metadata": {},
   "outputs": [],
   "source": [
    "capacity = pd.read_excel('Z:/User/Documents/capacity3.xlsx')"
   ]
  },
  {
   "cell_type": "code",
   "execution_count": 23,
   "metadata": {},
   "outputs": [],
   "source": [
    "res_data = capacity.merge(dataset4, how='inner').sort_values(by='year')"
   ]
  },
  {
   "cell_type": "code",
   "execution_count": 24,
   "metadata": {},
   "outputs": [
    {
     "data": {
      "text/html": [
       "<div>\n",
       "<style scoped>\n",
       "    .dataframe tbody tr th:only-of-type {\n",
       "        vertical-align: middle;\n",
       "    }\n",
       "\n",
       "    .dataframe tbody tr th {\n",
       "        vertical-align: top;\n",
       "    }\n",
       "\n",
       "    .dataframe thead th {\n",
       "        text-align: right;\n",
       "    }\n",
       "</style>\n",
       "<table border=\"1\" class=\"dataframe\">\n",
       "  <thead>\n",
       "    <tr style=\"text-align: right;\">\n",
       "      <th></th>\n",
       "      <th>gbcode</th>\n",
       "      <th>year</th>\n",
       "      <th>total_capacity</th>\n",
       "      <th>province</th>\n",
       "      <th>合同签公</th>\n",
       "    </tr>\n",
       "  </thead>\n",
       "  <tbody>\n",
       "    <tr>\n",
       "      <th>549</th>\n",
       "      <td>130124</td>\n",
       "      <td>2000</td>\n",
       "      <td>0</td>\n",
       "      <td>Hebei</td>\n",
       "      <td>2</td>\n",
       "    </tr>\n",
       "    <tr>\n",
       "      <th>21930</th>\n",
       "      <td>500103</td>\n",
       "      <td>2000</td>\n",
       "      <td>0</td>\n",
       "      <td></td>\n",
       "      <td>2</td>\n",
       "    </tr>\n",
       "    <tr>\n",
       "      <th>12348</th>\n",
       "      <td>350825</td>\n",
       "      <td>2000</td>\n",
       "      <td>0</td>\n",
       "      <td></td>\n",
       "      <td>3</td>\n",
       "    </tr>\n",
       "    <tr>\n",
       "      <th>22442</th>\n",
       "      <td>510106</td>\n",
       "      <td>2000</td>\n",
       "      <td>0</td>\n",
       "      <td></td>\n",
       "      <td>10</td>\n",
       "    </tr>\n",
       "    <tr>\n",
       "      <th>22411</th>\n",
       "      <td>510104</td>\n",
       "      <td>2000</td>\n",
       "      <td>0</td>\n",
       "      <td></td>\n",
       "      <td>2</td>\n",
       "    </tr>\n",
       "    <tr>\n",
       "      <th>...</th>\n",
       "      <td>...</td>\n",
       "      <td>...</td>\n",
       "      <td>...</td>\n",
       "      <td>...</td>\n",
       "      <td>...</td>\n",
       "    </tr>\n",
       "    <tr>\n",
       "      <th>3587</th>\n",
       "      <td>150123</td>\n",
       "      <td>2016</td>\n",
       "      <td>0</td>\n",
       "      <td></td>\n",
       "      <td>8</td>\n",
       "    </tr>\n",
       "    <tr>\n",
       "      <th>11147</th>\n",
       "      <td>341282</td>\n",
       "      <td>2016</td>\n",
       "      <td>0</td>\n",
       "      <td></td>\n",
       "      <td>9</td>\n",
       "    </tr>\n",
       "    <tr>\n",
       "      <th>22027</th>\n",
       "      <td>500109</td>\n",
       "      <td>2016</td>\n",
       "      <td>0</td>\n",
       "      <td></td>\n",
       "      <td>30</td>\n",
       "    </tr>\n",
       "    <tr>\n",
       "      <th>11159</th>\n",
       "      <td>341302</td>\n",
       "      <td>2016</td>\n",
       "      <td>1735</td>\n",
       "      <td>Anhui</td>\n",
       "      <td>128</td>\n",
       "    </tr>\n",
       "    <tr>\n",
       "      <th>29558</th>\n",
       "      <td>659004</td>\n",
       "      <td>2016</td>\n",
       "      <td>7280</td>\n",
       "      <td>Xinjiang</td>\n",
       "      <td>8</td>\n",
       "    </tr>\n",
       "  </tbody>\n",
       "</table>\n",
       "<p>29559 rows × 5 columns</p>\n",
       "</div>"
      ],
      "text/plain": [
       "       gbcode  year  total_capacity  province  合同签公\n",
       "549    130124  2000               0     Hebei     2\n",
       "21930  500103  2000               0               2\n",
       "12348  350825  2000               0               3\n",
       "22442  510106  2000               0              10\n",
       "22411  510104  2000               0               2\n",
       "...       ...   ...             ...       ...   ...\n",
       "3587   150123  2016               0               8\n",
       "11147  341282  2016               0               9\n",
       "22027  500109  2016               0              30\n",
       "11159  341302  2016            1735     Anhui   128\n",
       "29558  659004  2016            7280  Xinjiang     8\n",
       "\n",
       "[29559 rows x 5 columns]"
      ]
     },
     "execution_count": 24,
     "metadata": {},
     "output_type": "execute_result"
    }
   ],
   "source": [
    "res_data"
   ]
  },
  {
   "cell_type": "code",
   "execution_count": 30,
   "metadata": {},
   "outputs": [],
   "source": [
    "res_data.to_excel('land_dataset2.xlsx', index=False)"
   ]
  },
  {
   "cell_type": "code",
   "execution_count": null,
   "metadata": {},
   "outputs": [],
   "source": []
  }
 ],
 "metadata": {
  "kernelspec": {
   "display_name": "Python 3",
   "language": "python",
   "name": "python3"
  },
  "language_info": {
   "codemirror_mode": {
    "name": "ipython",
    "version": 3
   },
   "file_extension": ".py",
   "mimetype": "text/x-python",
   "name": "python",
   "nbconvert_exporter": "python",
   "pygments_lexer": "ipython3",
   "version": "3.8.5"
  }
 },
 "nbformat": 4,
 "nbformat_minor": 4
}
