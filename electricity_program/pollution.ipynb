{
 "cells": [
  {
   "cell_type": "code",
   "execution_count": null,
   "metadata": {},
   "outputs": [],
   "source": [
    "# Function: Create Pollution Dataset merged with generator data\n",
    "# Date 2021-7-25\n",
    "# Writer: Mingyi Li\n",
    "# Output Dataset: pollution_dataset7_25.xlsx"
   ]
  },
  {
   "cell_type": "code",
   "execution_count": 2,
   "metadata": {},
   "outputs": [],
   "source": [
    "import pandas as pd\n",
    "import numpy as np"
   ]
  },
  {
   "cell_type": "code",
   "execution_count": 6,
   "metadata": {},
   "outputs": [],
   "source": [
    "# 读入数据集，由于数据集中重复交替出现半角括号与全角括号，我们在读入时，采用try-except考虑这种差异。\n",
    "def read_file(file_path):\n",
    "    try:\n",
    "        res = pd.read_excel(file_path,usecols=['统计年份','行政区代码','工业废气排放总量（万标立方米）','二氧化硫排放量(千克)'])\n",
    "\n",
    "    except:\n",
    "        res = pd.read_excel(file_path,usecols=['统计年份','行政区代码','工业废气排放总量（万标立方米）','二氧化硫排放量（千克）'])\n",
    "    return res"
   ]
  },
  {
   "cell_type": "code",
   "execution_count": 15,
   "metadata": {},
   "outputs": [],
   "source": [
    "# pollution_demo = pd.read_excel(r'Z:/User/Documents/pollution/企业污染1998.xlsx',usecols=['统计年份','行政区代码','工业废气排放总量（万标立方米）','二氧化硫排放量(千克)'])"
   ]
  },
  {
   "cell_type": "code",
   "execution_count": 20,
   "metadata": {},
   "outputs": [],
   "source": [
    "# res = pollution_demo.merge(location_codes, left_on = '行政区代码',right_on='code', how ='inner')"
   ]
  },
  {
   "cell_type": "code",
   "execution_count": 7,
   "metadata": {},
   "outputs": [],
   "source": [
    "\n",
    "# Using SO2 emission as the symble of pollution\n",
    "def get_so2(df):\n",
    "    try:\n",
    "        df = df.groupby(['统计年份','行政区代码'])['二氧化硫排放量(千克)'].sum()\n",
    "    except:\n",
    "        df = df.groupby(['统计年份','行政区代码'])['二氧化硫排放量（千克）'].sum()\n",
    "        \n",
    "    return df.reset_index()"
   ]
  },
  {
   "cell_type": "code",
   "execution_count": 9,
   "metadata": {},
   "outputs": [
    {
     "name": "stdout",
     "output_type": "stream",
     "text": [
      "starting to handle pollution in year1998\n",
      "\n",
      "year1998 is haddled.\n",
      "\n",
      "starting to handle pollution in year1999\n",
      "\n",
      "year1999 is haddled.\n",
      "\n",
      "starting to handle pollution in year2000\n",
      "\n",
      "year2000 is haddled.\n",
      "\n",
      "starting to handle pollution in year2001\n",
      "\n",
      "year2001 is haddled.\n",
      "\n",
      "starting to handle pollution in year2002\n",
      "\n",
      "year2002 is haddled.\n",
      "\n",
      "starting to handle pollution in year2003\n",
      "\n",
      "year2003 is haddled.\n",
      "\n",
      "starting to handle pollution in year2004\n",
      "\n",
      "year2004 is haddled.\n",
      "\n",
      "starting to handle pollution in year2005\n",
      "\n",
      "year2005 is haddled.\n",
      "\n",
      "starting to handle pollution in year2006\n",
      "\n",
      "year2006 is haddled.\n",
      "\n",
      "starting to handle pollution in year2007\n",
      "\n",
      "year2007 is haddled.\n",
      "\n",
      "starting to handle pollution in year2008\n",
      "\n",
      "year2008 is haddled.\n",
      "\n",
      "starting to handle pollution in year2009\n",
      "\n",
      "year2009 is haddled.\n",
      "\n",
      "starting to handle pollution in year2010\n",
      "\n",
      "year2010 is haddled.\n",
      "\n"
     ]
    }
   ],
   "source": [
    "# Initialize dataset, using \"dataset\" to contain final dataset we merged\n",
    "dataset = pd.DataFrame(np.zeros(1))\n",
    "for i in range(1998,2011):\n",
    "    print('starting to handle pollution in year'+ str(i)+'\\n')\n",
    "    file_path = 'Z://User/Documents/pollution/企业污染' + str(i) + '.xlsx'\n",
    "    if i == 1998:\n",
    "        dataset = read_file(file_path)\n",
    "        dataset = get_so2(dataset)\n",
    "    else:\n",
    "        \n",
    "        data = read_file(file_path)\n",
    "        data = get_so2(data)\n",
    "        # vertically concatenate dataset\n",
    "        dataset = pd.concat([dataset, data])\n",
    "    print('year'+ str(i)+' is haddled.\\n')"
   ]
  },
  {
   "cell_type": "code",
   "execution_count": 11,
   "metadata": {},
   "outputs": [],
   "source": [
    "dataset['二氧化硫排放量(千克)'] = dataset['二氧化硫排放量(千克)'].combine_first(dataset['二氧化硫排放量（千克）'])"
   ]
  },
  {
   "cell_type": "code",
   "execution_count": 12,
   "metadata": {},
   "outputs": [],
   "source": [
    "dataset = dataset.drop('二氧化硫排放量（千克）',axis = 1)"
   ]
  },
  {
   "cell_type": "code",
   "execution_count": 14,
   "metadata": {},
   "outputs": [
    {
     "data": {
      "text/html": [
       "<div>\n",
       "<style scoped>\n",
       "    .dataframe tbody tr th:only-of-type {\n",
       "        vertical-align: middle;\n",
       "    }\n",
       "\n",
       "    .dataframe tbody tr th {\n",
       "        vertical-align: top;\n",
       "    }\n",
       "\n",
       "    .dataframe thead th {\n",
       "        text-align: right;\n",
       "    }\n",
       "</style>\n",
       "<table border=\"1\" class=\"dataframe\">\n",
       "  <thead>\n",
       "    <tr style=\"text-align: right;\">\n",
       "      <th></th>\n",
       "      <th>统计年份</th>\n",
       "      <th>行政区代码</th>\n",
       "      <th>二氧化硫排放量(千克)</th>\n",
       "    </tr>\n",
       "  </thead>\n",
       "  <tbody>\n",
       "    <tr>\n",
       "      <th>0</th>\n",
       "      <td>1998</td>\n",
       "      <td>130102</td>\n",
       "      <td>33550705.0</td>\n",
       "    </tr>\n",
       "    <tr>\n",
       "      <th>1</th>\n",
       "      <td>1998</td>\n",
       "      <td>130103</td>\n",
       "      <td>1355695.0</td>\n",
       "    </tr>\n",
       "    <tr>\n",
       "      <th>2</th>\n",
       "      <td>1998</td>\n",
       "      <td>130104</td>\n",
       "      <td>1612120.0</td>\n",
       "    </tr>\n",
       "    <tr>\n",
       "      <th>3</th>\n",
       "      <td>1998</td>\n",
       "      <td>130105</td>\n",
       "      <td>1856294.0</td>\n",
       "    </tr>\n",
       "    <tr>\n",
       "      <th>4</th>\n",
       "      <td>1998</td>\n",
       "      <td>130106</td>\n",
       "      <td>449604.0</td>\n",
       "    </tr>\n",
       "    <tr>\n",
       "      <th>...</th>\n",
       "      <td>...</td>\n",
       "      <td>...</td>\n",
       "      <td>...</td>\n",
       "    </tr>\n",
       "    <tr>\n",
       "      <th>2907</th>\n",
       "      <td>2010</td>\n",
       "      <td>655021</td>\n",
       "      <td>71000.0</td>\n",
       "    </tr>\n",
       "    <tr>\n",
       "      <th>2908</th>\n",
       "      <td>2010</td>\n",
       "      <td>655022</td>\n",
       "      <td>328000.0</td>\n",
       "    </tr>\n",
       "    <tr>\n",
       "      <th>2909</th>\n",
       "      <td>2010</td>\n",
       "      <td>655023</td>\n",
       "      <td>1083000.0</td>\n",
       "    </tr>\n",
       "    <tr>\n",
       "      <th>2910</th>\n",
       "      <td>2010</td>\n",
       "      <td>655024</td>\n",
       "      <td>57000.0</td>\n",
       "    </tr>\n",
       "    <tr>\n",
       "      <th>2911</th>\n",
       "      <td>2010</td>\n",
       "      <td>659001</td>\n",
       "      <td>5642247.0</td>\n",
       "    </tr>\n",
       "  </tbody>\n",
       "</table>\n",
       "<p>37540 rows × 3 columns</p>\n",
       "</div>"
      ],
      "text/plain": [
       "      统计年份   行政区代码  二氧化硫排放量(千克)\n",
       "0     1998  130102   33550705.0\n",
       "1     1998  130103    1355695.0\n",
       "2     1998  130104    1612120.0\n",
       "3     1998  130105    1856294.0\n",
       "4     1998  130106     449604.0\n",
       "...    ...     ...          ...\n",
       "2907  2010  655021      71000.0\n",
       "2908  2010  655022     328000.0\n",
       "2909  2010  655023    1083000.0\n",
       "2910  2010  655024      57000.0\n",
       "2911  2010  659001    5642247.0\n",
       "\n",
       "[37540 rows x 3 columns]"
      ]
     },
     "execution_count": 14,
     "metadata": {},
     "output_type": "execute_result"
    }
   ],
   "source": [
    "# No duplicates in dataset yet\n",
    "dataset.drop_duplicates()"
   ]
  },
  {
   "cell_type": "code",
   "execution_count": 8,
   "metadata": {},
   "outputs": [],
   "source": [
    "# Because dataset between 2011 and 2014 has different features compared with before, we handle them seperately"
   ]
  },
  {
   "cell_type": "code",
   "execution_count": 15,
   "metadata": {},
   "outputs": [],
   "source": [
    "data2011 = pd.read_excel(r'Z:/User/Documents/pollution/企业污染2011.xlsx',usecols=['统计年份','行政区划代码','二氧化硫排放量吨'])\n",
    "data2011 = data2011.rename({'行政区划代码':'行政区代码'},axis=1)\n"
   ]
  },
  {
   "cell_type": "code",
   "execution_count": 16,
   "metadata": {},
   "outputs": [
    {
     "name": "stdout",
     "output_type": "stream",
     "text": [
      "<class 'pandas.core.frame.DataFrame'>\n",
      "RangeIndex: 153027 entries, 0 to 153026\n",
      "Data columns (total 3 columns):\n",
      " #   Column    Non-Null Count   Dtype  \n",
      "---  ------    --------------   -----  \n",
      " 0   行政区代码     153027 non-null  int64  \n",
      " 1   统计年份      153027 non-null  int64  \n",
      " 2   二氧化硫排放量吨  106959 non-null  float64\n",
      "dtypes: float64(1), int64(2)\n",
      "memory usage: 3.5 MB\n"
     ]
    }
   ],
   "source": [
    "data2011.info()"
   ]
  },
  {
   "cell_type": "code",
   "execution_count": 18,
   "metadata": {},
   "outputs": [],
   "source": [
    "data2011['二氧化硫排放量(千克)'] = data2011['二氧化硫排放量吨'] * 1000\n",
    "data2011 = data2011.reindex(['统计年份','行政区代码','二氧化硫排放量(千克)'],axis = 1)\n",
    "data2011_so2 = data2011.groupby(['统计年份','行政区代码'])['二氧化硫排放量(千克)'].sum().reset_index()\n"
   ]
  },
  {
   "cell_type": "code",
   "execution_count": 24,
   "metadata": {},
   "outputs": [],
   "source": [
    "dataset = pd.concat([dataset,data2011_so2])"
   ]
  },
  {
   "cell_type": "code",
   "execution_count": null,
   "metadata": {},
   "outputs": [],
   "source": []
  },
  {
   "cell_type": "code",
   "execution_count": 17,
   "metadata": {},
   "outputs": [],
   "source": [
    "###  DATA IN 2012\n",
    "data2012 = pd.read_excel(r'Z:/User/Documents/pollution/企业污染2012.xlsx',usecols=['统计年份','行政区划代码','工业废气二氧化硫排放量（吨）'])\n",
    "data2012 = data2012.rename({'行政区划代码':'行政区代码'},axis=1)\n"
   ]
  },
  {
   "cell_type": "code",
   "execution_count": 26,
   "metadata": {},
   "outputs": [],
   "source": [
    "data2012['二氧化硫排放量(千克)'] = data2012['工业废气二氧化硫排放量（吨）'] * 1000\n",
    "data2012 = data2012.reindex(['统计年份','行政区代码','二氧化硫排放量(千克)'],axis = 1)\n",
    "data2012_so2 = data2012.groupby(['统计年份','行政区代码'])['二氧化硫排放量(千克)'].sum().reset_index()\n"
   ]
  },
  {
   "cell_type": "code",
   "execution_count": 29,
   "metadata": {},
   "outputs": [],
   "source": [
    "dataset = pd.concat([dataset,data2012_so2])"
   ]
  },
  {
   "cell_type": "code",
   "execution_count": null,
   "metadata": {},
   "outputs": [],
   "source": []
  },
  {
   "cell_type": "code",
   "execution_count": 32,
   "metadata": {},
   "outputs": [],
   "source": [
    "data2013 = pd.read_stata(r'Z:/User/Documents/pollution/企业污染2013.dta')\n",
    "data2013 = data2013.reindex(['行政区划代码','统计年份','二氧化硫排放量吨'],axis=1)\n",
    "data2013 = data2013.rename({'行政区划代码':'行政区代码'},axis=1)\n"
   ]
  },
  {
   "cell_type": "code",
   "execution_count": 34,
   "metadata": {},
   "outputs": [
    {
     "name": "stdout",
     "output_type": "stream",
     "text": [
      "<class 'pandas.core.frame.DataFrame'>\n",
      "Int64Index: 147657 entries, 0 to 147656\n",
      "Data columns (total 3 columns):\n",
      " #   Column    Non-Null Count   Dtype \n",
      "---  ------    --------------   ----- \n",
      " 0   行政区代码     147657 non-null  object\n",
      " 1   统计年份      147657 non-null  object\n",
      " 2   二氧化硫排放量吨  147657 non-null  object\n",
      "dtypes: object(3)\n",
      "memory usage: 4.5+ MB\n"
     ]
    }
   ],
   "source": [
    "data2013.info()"
   ]
  },
  {
   "cell_type": "code",
   "execution_count": 35,
   "metadata": {},
   "outputs": [],
   "source": [
    "data2013['二氧化硫排放量吨'] = data2013['二氧化硫排放量吨'].replace('',np.nan)\n",
    "data2013['二氧化硫排放量吨'] = data2013['二氧化硫排放量吨'].astype('float')"
   ]
  },
  {
   "cell_type": "code",
   "execution_count": 37,
   "metadata": {},
   "outputs": [],
   "source": [
    "data2013['二氧化硫排放量(千克)'] = data2013['二氧化硫排放量吨'] * 1000\n",
    "data2013 = data2013.reindex(['统计年份','行政区代码','二氧化硫排放量(千克)'],axis = 1)\n",
    "data2013_so2 = data2013.groupby(['统计年份','行政区代码'])['二氧化硫排放量(千克)'].sum().reset_index()\n"
   ]
  },
  {
   "cell_type": "code",
   "execution_count": 41,
   "metadata": {},
   "outputs": [
    {
     "data": {
      "text/html": [
       "<div>\n",
       "<style scoped>\n",
       "    .dataframe tbody tr th:only-of-type {\n",
       "        vertical-align: middle;\n",
       "    }\n",
       "\n",
       "    .dataframe tbody tr th {\n",
       "        vertical-align: top;\n",
       "    }\n",
       "\n",
       "    .dataframe thead th {\n",
       "        text-align: right;\n",
       "    }\n",
       "</style>\n",
       "<table border=\"1\" class=\"dataframe\">\n",
       "  <thead>\n",
       "    <tr style=\"text-align: right;\">\n",
       "      <th></th>\n",
       "      <th>统计年份</th>\n",
       "      <th>行政区代码</th>\n",
       "      <th>二氧化硫排放量(千克)</th>\n",
       "    </tr>\n",
       "  </thead>\n",
       "  <tbody>\n",
       "    <tr>\n",
       "      <th>0</th>\n",
       "      <td>2013</td>\n",
       "      <td>110101</td>\n",
       "      <td>1477.0</td>\n",
       "    </tr>\n",
       "    <tr>\n",
       "      <th>1</th>\n",
       "      <td>2013</td>\n",
       "      <td>110102</td>\n",
       "      <td>45647.0</td>\n",
       "    </tr>\n",
       "    <tr>\n",
       "      <th>2</th>\n",
       "      <td>2013</td>\n",
       "      <td>110105</td>\n",
       "      <td>4513045.0</td>\n",
       "    </tr>\n",
       "    <tr>\n",
       "      <th>3</th>\n",
       "      <td>2013</td>\n",
       "      <td>110106</td>\n",
       "      <td>2806041.0</td>\n",
       "    </tr>\n",
       "    <tr>\n",
       "      <th>4</th>\n",
       "      <td>2013</td>\n",
       "      <td>110107</td>\n",
       "      <td>14029290.0</td>\n",
       "    </tr>\n",
       "    <tr>\n",
       "      <th>...</th>\n",
       "      <td>...</td>\n",
       "      <td>...</td>\n",
       "      <td>...</td>\n",
       "    </tr>\n",
       "    <tr>\n",
       "      <th>3157</th>\n",
       "      <td>2013</td>\n",
       "      <td>661402</td>\n",
       "      <td>318708.0</td>\n",
       "    </tr>\n",
       "    <tr>\n",
       "      <th>3158</th>\n",
       "      <td>2013</td>\n",
       "      <td>661403</td>\n",
       "      <td>56160.0</td>\n",
       "    </tr>\n",
       "    <tr>\n",
       "      <th>3159</th>\n",
       "      <td>2013</td>\n",
       "      <td>661404</td>\n",
       "      <td>27456.0</td>\n",
       "    </tr>\n",
       "    <tr>\n",
       "      <th>3160</th>\n",
       "      <td>2013</td>\n",
       "      <td>661501</td>\n",
       "      <td>163200.0</td>\n",
       "    </tr>\n",
       "    <tr>\n",
       "      <th>3161</th>\n",
       "      <td>2013</td>\n",
       "      <td>661502</td>\n",
       "      <td>160012.0</td>\n",
       "    </tr>\n",
       "  </tbody>\n",
       "</table>\n",
       "<p>3162 rows × 3 columns</p>\n",
       "</div>"
      ],
      "text/plain": [
       "      统计年份   行政区代码  二氧化硫排放量(千克)\n",
       "0     2013  110101       1477.0\n",
       "1     2013  110102      45647.0\n",
       "2     2013  110105    4513045.0\n",
       "3     2013  110106    2806041.0\n",
       "4     2013  110107   14029290.0\n",
       "...    ...     ...          ...\n",
       "3157  2013  661402     318708.0\n",
       "3158  2013  661403      56160.0\n",
       "3159  2013  661404      27456.0\n",
       "3160  2013  661501     163200.0\n",
       "3161  2013  661502     160012.0\n",
       "\n",
       "[3162 rows x 3 columns]"
      ]
     },
     "execution_count": 41,
     "metadata": {},
     "output_type": "execute_result"
    }
   ],
   "source": [
    "data2013_so2"
   ]
  },
  {
   "cell_type": "code",
   "execution_count": 42,
   "metadata": {},
   "outputs": [],
   "source": [
    "dataset = pd.concat([dataset,data2013_so2])"
   ]
  },
  {
   "cell_type": "code",
   "execution_count": null,
   "metadata": {},
   "outputs": [],
   "source": []
  },
  {
   "cell_type": "code",
   "execution_count": 43,
   "metadata": {},
   "outputs": [],
   "source": [
    "data2014 = pd.read_excel(r'Z:/User/Documents/pollution/企业污染2014.xlsx')\n"
   ]
  },
  {
   "cell_type": "code",
   "execution_count": 44,
   "metadata": {},
   "outputs": [],
   "source": [
    "data2014 = data2014.rename({'行政区划代码':'行政区代码'},axis=1)"
   ]
  },
  {
   "cell_type": "code",
   "execution_count": 45,
   "metadata": {},
   "outputs": [],
   "source": [
    "data2014 = data2014.reindex(['行政区代码','统计年份','二氧化硫排放量吨'],axis=1)"
   ]
  },
  {
   "cell_type": "code",
   "execution_count": 49,
   "metadata": {},
   "outputs": [
    {
     "name": "stdout",
     "output_type": "stream",
     "text": [
      "<class 'pandas.core.frame.DataFrame'>\n",
      "RangeIndex: 154630 entries, 0 to 154629\n",
      "Data columns (total 3 columns):\n",
      " #   Column    Non-Null Count   Dtype \n",
      "---  ------    --------------   ----- \n",
      " 0   行政区代码     154630 non-null  object\n",
      " 1   统计年份      154630 non-null  object\n",
      " 2   二氧化硫排放量吨  103448 non-null  object\n",
      "dtypes: object(3)\n",
      "memory usage: 3.5+ MB\n"
     ]
    }
   ],
   "source": [
    "data2014.info()"
   ]
  },
  {
   "cell_type": "code",
   "execution_count": 68,
   "metadata": {},
   "outputs": [],
   "source": [
    "# def check_code(s):\n",
    "#     return s in LOCATION_CODE['code'].values\n",
    "    "
   ]
  },
  {
   "cell_type": "code",
   "execution_count": 202,
   "metadata": {},
   "outputs": [
    {
     "data": {
      "text/html": [
       "<div>\n",
       "<style scoped>\n",
       "    .dataframe tbody tr th:only-of-type {\n",
       "        vertical-align: middle;\n",
       "    }\n",
       "\n",
       "    .dataframe tbody tr th {\n",
       "        vertical-align: top;\n",
       "    }\n",
       "\n",
       "    .dataframe thead th {\n",
       "        text-align: right;\n",
       "    }\n",
       "</style>\n",
       "<table border=\"1\" class=\"dataframe\">\n",
       "  <thead>\n",
       "    <tr style=\"text-align: right;\">\n",
       "      <th></th>\n",
       "      <th>行政区代码</th>\n",
       "      <th>统计年份</th>\n",
       "      <th>二氧化硫排放量吨</th>\n",
       "    </tr>\n",
       "  </thead>\n",
       "  <tbody>\n",
       "    <tr>\n",
       "      <th>67109</th>\n",
       "      <td>430761</td>\n",
       "      <td>2014</td>\n",
       "      <td>中成药生产</td>\n",
       "    </tr>\n",
       "  </tbody>\n",
       "</table>\n",
       "</div>"
      ],
      "text/plain": [
       "        行政区代码  统计年份 二氧化硫排放量吨\n",
       "67109  430761  2014    中成药生产"
      ]
     },
     "execution_count": 202,
     "metadata": {},
     "output_type": "execute_result"
    }
   ],
   "source": [
    "data2014[data2014['二氧化硫排放量吨'] =='中成药生产']"
   ]
  },
  {
   "cell_type": "code",
   "execution_count": 203,
   "metadata": {},
   "outputs": [],
   "source": []
  },
  {
   "cell_type": "code",
   "execution_count": 205,
   "metadata": {},
   "outputs": [],
   "source": []
  },
  {
   "cell_type": "code",
   "execution_count": 207,
   "metadata": {},
   "outputs": [
    {
     "data": {
      "text/html": [
       "<div>\n",
       "<style scoped>\n",
       "    .dataframe tbody tr th:only-of-type {\n",
       "        vertical-align: middle;\n",
       "    }\n",
       "\n",
       "    .dataframe tbody tr th {\n",
       "        vertical-align: top;\n",
       "    }\n",
       "\n",
       "    .dataframe thead th {\n",
       "        text-align: right;\n",
       "    }\n",
       "</style>\n",
       "<table border=\"1\" class=\"dataframe\">\n",
       "  <thead>\n",
       "    <tr style=\"text-align: right;\">\n",
       "      <th></th>\n",
       "      <th>行政区代码</th>\n",
       "      <th>统计年份</th>\n",
       "      <th>二氧化硫排放量吨</th>\n",
       "    </tr>\n",
       "  </thead>\n",
       "  <tbody>\n",
       "    <tr>\n",
       "      <th>93133</th>\n",
       "      <td>210904</td>\n",
       "      <td>2014</td>\n",
       "      <td>阜新六和农牧有限公司食品分公司</td>\n",
       "    </tr>\n",
       "  </tbody>\n",
       "</table>\n",
       "</div>"
      ],
      "text/plain": [
       "        行政区代码  统计年份         二氧化硫排放量吨\n",
       "93133  210904  2014  阜新六和农牧有限公司食品分公司"
      ]
     },
     "execution_count": 207,
     "metadata": {},
     "output_type": "execute_result"
    }
   ],
   "source": [
    "tmp[tmp['二氧化硫排放量吨'] =='阜新六和农牧有限公司食品分公司']"
   ]
  },
  {
   "cell_type": "code",
   "execution_count": 71,
   "metadata": {},
   "outputs": [],
   "source": [
    "tmp = data2014\n",
    "tmp = tmp.drop(67109)\n",
    "tmp = tmp.drop(93133)"
   ]
  },
  {
   "cell_type": "code",
   "execution_count": 72,
   "metadata": {},
   "outputs": [],
   "source": [
    "tmp['二氧化硫排放量吨'] = tmp['二氧化硫排放量吨'].astype('float')\n"
   ]
  },
  {
   "cell_type": "code",
   "execution_count": 76,
   "metadata": {},
   "outputs": [],
   "source": [
    "data2014 = tmp"
   ]
  },
  {
   "cell_type": "code",
   "execution_count": 77,
   "metadata": {},
   "outputs": [],
   "source": [
    "\n",
    "data2014['二氧化硫排放量(千克)'] = data2014['二氧化硫排放量吨'] * 1000\n",
    "data2014 = data2014.reindex(['统计年份','行政区代码','二氧化硫排放量(千克)'],axis = 1)\n"
   ]
  },
  {
   "cell_type": "code",
   "execution_count": null,
   "metadata": {},
   "outputs": [],
   "source": []
  },
  {
   "cell_type": "code",
   "execution_count": 102,
   "metadata": {},
   "outputs": [],
   "source": [
    "import re\n",
    "def check_num(s):\n",
    "    pattern = '[^0-9].+'\n",
    "    pattern = re.compile(pattern)\n",
    "    res = pattern.search(s)\n",
    "    if res is None:\n",
    "        return True\n",
    "    return False"
   ]
  },
  {
   "cell_type": "code",
   "execution_count": 105,
   "metadata": {},
   "outputs": [],
   "source": [
    "s = '12s3'"
   ]
  },
  {
   "cell_type": "code",
   "execution_count": 109,
   "metadata": {},
   "outputs": [
    {
     "data": {
      "text/plain": [
       "array([2014, '蔬菜加工', '水泥制造', '热力生产和供应'], dtype=object)"
      ]
     },
     "execution_count": 109,
     "metadata": {},
     "output_type": "execute_result"
    }
   ],
   "source": [
    "data2014['统计年份'].unique()"
   ]
  },
  {
   "cell_type": "code",
   "execution_count": 106,
   "metadata": {},
   "outputs": [
    {
     "data": {
      "text/plain": [
       "False"
      ]
     },
     "execution_count": 106,
     "metadata": {},
     "output_type": "execute_result"
    }
   ],
   "source": [
    "check_num(s)"
   ]
  },
  {
   "cell_type": "code",
   "execution_count": 114,
   "metadata": {},
   "outputs": [],
   "source": [
    "data2014 = data2014[data2014['统计年份'].astype('str').apply(check_num)]"
   ]
  },
  {
   "cell_type": "code",
   "execution_count": 117,
   "metadata": {},
   "outputs": [],
   "source": [
    "data2014_so2 = data2014.groupby(['统计年份','行政区代码'])['二氧化硫排放量(千克)'].sum().reset_index()\n"
   ]
  },
  {
   "cell_type": "code",
   "execution_count": 120,
   "metadata": {},
   "outputs": [],
   "source": [
    "dataset = pd.concat([dataset,data2014_so2])"
   ]
  },
  {
   "cell_type": "code",
   "execution_count": 253,
   "metadata": {},
   "outputs": [
    {
     "data": {
      "text/html": [
       "<div>\n",
       "<style scoped>\n",
       "    .dataframe tbody tr th:only-of-type {\n",
       "        vertical-align: middle;\n",
       "    }\n",
       "\n",
       "    .dataframe tbody tr th {\n",
       "        vertical-align: top;\n",
       "    }\n",
       "\n",
       "    .dataframe thead th {\n",
       "        text-align: right;\n",
       "    }\n",
       "</style>\n",
       "<table border=\"1\" class=\"dataframe\">\n",
       "  <thead>\n",
       "    <tr style=\"text-align: right;\">\n",
       "      <th></th>\n",
       "      <th>统计年份</th>\n",
       "      <th>行政区代码</th>\n",
       "      <th>二氧化硫排放量(千克)</th>\n",
       "    </tr>\n",
       "  </thead>\n",
       "  <tbody>\n",
       "    <tr>\n",
       "      <th>0</th>\n",
       "      <td>1998</td>\n",
       "      <td>130102</td>\n",
       "      <td>3.35507e+07</td>\n",
       "    </tr>\n",
       "    <tr>\n",
       "      <th>1</th>\n",
       "      <td>1998</td>\n",
       "      <td>130103</td>\n",
       "      <td>1.3557e+06</td>\n",
       "    </tr>\n",
       "    <tr>\n",
       "      <th>2</th>\n",
       "      <td>1998</td>\n",
       "      <td>130104</td>\n",
       "      <td>1.61212e+06</td>\n",
       "    </tr>\n",
       "    <tr>\n",
       "      <th>3</th>\n",
       "      <td>1998</td>\n",
       "      <td>130105</td>\n",
       "      <td>1.85629e+06</td>\n",
       "    </tr>\n",
       "    <tr>\n",
       "      <th>4</th>\n",
       "      <td>1998</td>\n",
       "      <td>130106</td>\n",
       "      <td>449604</td>\n",
       "    </tr>\n",
       "    <tr>\n",
       "      <th>...</th>\n",
       "      <td>...</td>\n",
       "      <td>...</td>\n",
       "      <td>...</td>\n",
       "    </tr>\n",
       "    <tr>\n",
       "      <th>3166</th>\n",
       "      <td>2014</td>\n",
       "      <td>661402</td>\n",
       "      <td>287182</td>\n",
       "    </tr>\n",
       "    <tr>\n",
       "      <th>3167</th>\n",
       "      <td>2014</td>\n",
       "      <td>661403</td>\n",
       "      <td>56160</td>\n",
       "    </tr>\n",
       "    <tr>\n",
       "      <th>3168</th>\n",
       "      <td>2014</td>\n",
       "      <td>661404</td>\n",
       "      <td>27456</td>\n",
       "    </tr>\n",
       "    <tr>\n",
       "      <th>3169</th>\n",
       "      <td>2014</td>\n",
       "      <td>661501</td>\n",
       "      <td>347440</td>\n",
       "    </tr>\n",
       "    <tr>\n",
       "      <th>3170</th>\n",
       "      <td>2014</td>\n",
       "      <td>661502</td>\n",
       "      <td>407791</td>\n",
       "    </tr>\n",
       "  </tbody>\n",
       "</table>\n",
       "<p>50152 rows × 3 columns</p>\n",
       "</div>"
      ],
      "text/plain": [
       "      统计年份   行政区代码  二氧化硫排放量(千克)\n",
       "0     1998  130102  3.35507e+07\n",
       "1     1998  130103   1.3557e+06\n",
       "2     1998  130104  1.61212e+06\n",
       "3     1998  130105  1.85629e+06\n",
       "4     1998  130106       449604\n",
       "...    ...     ...          ...\n",
       "3166  2014  661402       287182\n",
       "3167  2014  661403        56160\n",
       "3168  2014  661404        27456\n",
       "3169  2014  661501       347440\n",
       "3170  2014  661502       407791\n",
       "\n",
       "[50152 rows x 3 columns]"
      ]
     },
     "execution_count": 253,
     "metadata": {},
     "output_type": "execute_result"
    }
   ],
   "source": [
    "dataset"
   ]
  },
  {
   "cell_type": "code",
   "execution_count": 254,
   "metadata": {},
   "outputs": [],
   "source": [
    "dataset.to_excel('pollution.xlsx')"
   ]
  },
  {
   "cell_type": "code",
   "execution_count": null,
   "metadata": {},
   "outputs": [],
   "source": []
  },
  {
   "cell_type": "code",
   "execution_count": 146,
   "metadata": {},
   "outputs": [],
   "source": [
    "dataset  = pd.read_excel(r'Z:/User/Documents/pollution.xlsx', index_col=0)"
   ]
  },
  {
   "cell_type": "code",
   "execution_count": 136,
   "metadata": {},
   "outputs": [],
   "source": [
    "capacity = pd.read_excel(r'Z:/User/Documents/capacity3.xlsx', index_col = 0)"
   ]
  },
  {
   "cell_type": "code",
   "execution_count": 137,
   "metadata": {},
   "outputs": [
    {
     "data": {
      "text/html": [
       "<div>\n",
       "<style scoped>\n",
       "    .dataframe tbody tr th:only-of-type {\n",
       "        vertical-align: middle;\n",
       "    }\n",
       "\n",
       "    .dataframe tbody tr th {\n",
       "        vertical-align: top;\n",
       "    }\n",
       "\n",
       "    .dataframe thead th {\n",
       "        text-align: right;\n",
       "    }\n",
       "</style>\n",
       "<table border=\"1\" class=\"dataframe\">\n",
       "  <thead>\n",
       "    <tr style=\"text-align: right;\">\n",
       "      <th></th>\n",
       "      <th>year</th>\n",
       "      <th>total_capacity</th>\n",
       "      <th>province</th>\n",
       "    </tr>\n",
       "    <tr>\n",
       "      <th>gbcode</th>\n",
       "      <th></th>\n",
       "      <th></th>\n",
       "      <th></th>\n",
       "    </tr>\n",
       "  </thead>\n",
       "  <tbody>\n",
       "    <tr>\n",
       "      <th>110101</th>\n",
       "      <td>1991</td>\n",
       "      <td>0</td>\n",
       "      <td></td>\n",
       "    </tr>\n",
       "    <tr>\n",
       "      <th>110101</th>\n",
       "      <td>1992</td>\n",
       "      <td>0</td>\n",
       "      <td></td>\n",
       "    </tr>\n",
       "    <tr>\n",
       "      <th>110101</th>\n",
       "      <td>1993</td>\n",
       "      <td>0</td>\n",
       "      <td></td>\n",
       "    </tr>\n",
       "    <tr>\n",
       "      <th>110101</th>\n",
       "      <td>1994</td>\n",
       "      <td>0</td>\n",
       "      <td></td>\n",
       "    </tr>\n",
       "    <tr>\n",
       "      <th>110101</th>\n",
       "      <td>1995</td>\n",
       "      <td>0</td>\n",
       "      <td></td>\n",
       "    </tr>\n",
       "    <tr>\n",
       "      <th>...</th>\n",
       "      <td>...</td>\n",
       "      <td>...</td>\n",
       "      <td>...</td>\n",
       "    </tr>\n",
       "    <tr>\n",
       "      <th>659004</th>\n",
       "      <td>2012</td>\n",
       "      <td>2880</td>\n",
       "      <td>Xinjiang</td>\n",
       "    </tr>\n",
       "    <tr>\n",
       "      <th>659004</th>\n",
       "      <td>2013</td>\n",
       "      <td>2880</td>\n",
       "      <td>Xinjiang</td>\n",
       "    </tr>\n",
       "    <tr>\n",
       "      <th>659004</th>\n",
       "      <td>2014</td>\n",
       "      <td>5080</td>\n",
       "      <td>Xinjiang</td>\n",
       "    </tr>\n",
       "    <tr>\n",
       "      <th>659004</th>\n",
       "      <td>2015</td>\n",
       "      <td>7280</td>\n",
       "      <td>Xinjiang</td>\n",
       "    </tr>\n",
       "    <tr>\n",
       "      <th>659004</th>\n",
       "      <td>2016</td>\n",
       "      <td>7280</td>\n",
       "      <td>Xinjiang</td>\n",
       "    </tr>\n",
       "  </tbody>\n",
       "</table>\n",
       "<p>74672 rows × 3 columns</p>\n",
       "</div>"
      ],
      "text/plain": [
       "        year  total_capacity  province\n",
       "gbcode                                \n",
       "110101  1991               0          \n",
       "110101  1992               0          \n",
       "110101  1993               0          \n",
       "110101  1994               0          \n",
       "110101  1995               0          \n",
       "...      ...             ...       ...\n",
       "659004  2012            2880  Xinjiang\n",
       "659004  2013            2880  Xinjiang\n",
       "659004  2014            5080  Xinjiang\n",
       "659004  2015            7280  Xinjiang\n",
       "659004  2016            7280  Xinjiang\n",
       "\n",
       "[74672 rows x 3 columns]"
      ]
     },
     "execution_count": 137,
     "metadata": {},
     "output_type": "execute_result"
    }
   ],
   "source": [
    "capacity"
   ]
  },
  {
   "cell_type": "code",
   "execution_count": 148,
   "metadata": {},
   "outputs": [
    {
     "data": {
      "text/html": [
       "<div>\n",
       "<style scoped>\n",
       "    .dataframe tbody tr th:only-of-type {\n",
       "        vertical-align: middle;\n",
       "    }\n",
       "\n",
       "    .dataframe tbody tr th {\n",
       "        vertical-align: top;\n",
       "    }\n",
       "\n",
       "    .dataframe thead th {\n",
       "        text-align: right;\n",
       "    }\n",
       "</style>\n",
       "<table border=\"1\" class=\"dataframe\">\n",
       "  <thead>\n",
       "    <tr style=\"text-align: right;\">\n",
       "      <th></th>\n",
       "      <th>统计年份</th>\n",
       "      <th>行政区代码</th>\n",
       "      <th>二氧化硫排放量(千克)</th>\n",
       "    </tr>\n",
       "  </thead>\n",
       "  <tbody>\n",
       "    <tr>\n",
       "      <th>0</th>\n",
       "      <td>1998</td>\n",
       "      <td>130102</td>\n",
       "      <td>33550705.0</td>\n",
       "    </tr>\n",
       "    <tr>\n",
       "      <th>1</th>\n",
       "      <td>1998</td>\n",
       "      <td>130103</td>\n",
       "      <td>1355695.0</td>\n",
       "    </tr>\n",
       "    <tr>\n",
       "      <th>2</th>\n",
       "      <td>1998</td>\n",
       "      <td>130104</td>\n",
       "      <td>1612120.0</td>\n",
       "    </tr>\n",
       "    <tr>\n",
       "      <th>3</th>\n",
       "      <td>1998</td>\n",
       "      <td>130105</td>\n",
       "      <td>1856294.0</td>\n",
       "    </tr>\n",
       "    <tr>\n",
       "      <th>4</th>\n",
       "      <td>1998</td>\n",
       "      <td>130106</td>\n",
       "      <td>449604.0</td>\n",
       "    </tr>\n",
       "    <tr>\n",
       "      <th>...</th>\n",
       "      <td>...</td>\n",
       "      <td>...</td>\n",
       "      <td>...</td>\n",
       "    </tr>\n",
       "    <tr>\n",
       "      <th>3166</th>\n",
       "      <td>2014</td>\n",
       "      <td>661402</td>\n",
       "      <td>287182.0</td>\n",
       "    </tr>\n",
       "    <tr>\n",
       "      <th>3167</th>\n",
       "      <td>2014</td>\n",
       "      <td>661403</td>\n",
       "      <td>56160.0</td>\n",
       "    </tr>\n",
       "    <tr>\n",
       "      <th>3168</th>\n",
       "      <td>2014</td>\n",
       "      <td>661404</td>\n",
       "      <td>27456.0</td>\n",
       "    </tr>\n",
       "    <tr>\n",
       "      <th>3169</th>\n",
       "      <td>2014</td>\n",
       "      <td>661501</td>\n",
       "      <td>347440.0</td>\n",
       "    </tr>\n",
       "    <tr>\n",
       "      <th>3170</th>\n",
       "      <td>2014</td>\n",
       "      <td>661502</td>\n",
       "      <td>407791.0</td>\n",
       "    </tr>\n",
       "  </tbody>\n",
       "</table>\n",
       "<p>50152 rows × 3 columns</p>\n",
       "</div>"
      ],
      "text/plain": [
       "      统计年份   行政区代码  二氧化硫排放量(千克)\n",
       "0     1998  130102   33550705.0\n",
       "1     1998  130103    1355695.0\n",
       "2     1998  130104    1612120.0\n",
       "3     1998  130105    1856294.0\n",
       "4     1998  130106     449604.0\n",
       "...    ...     ...          ...\n",
       "3166  2014  661402     287182.0\n",
       "3167  2014  661403      56160.0\n",
       "3168  2014  661404      27456.0\n",
       "3169  2014  661501     347440.0\n",
       "3170  2014  661502     407791.0\n",
       "\n",
       "[50152 rows x 3 columns]"
      ]
     },
     "execution_count": 148,
     "metadata": {},
     "output_type": "execute_result"
    }
   ],
   "source": [
    "dataset.drop_duplicates()"
   ]
  },
  {
   "cell_type": "code",
   "execution_count": 149,
   "metadata": {},
   "outputs": [],
   "source": [
    "dataset2 = capacity.merge(dataset, left_on=['year', 'gbcode'],right_on=['统计年份','行政区代码'])"
   ]
  },
  {
   "cell_type": "code",
   "execution_count": 150,
   "metadata": {},
   "outputs": [
    {
     "data": {
      "text/html": [
       "<div>\n",
       "<style scoped>\n",
       "    .dataframe tbody tr th:only-of-type {\n",
       "        vertical-align: middle;\n",
       "    }\n",
       "\n",
       "    .dataframe tbody tr th {\n",
       "        vertical-align: top;\n",
       "    }\n",
       "\n",
       "    .dataframe thead th {\n",
       "        text-align: right;\n",
       "    }\n",
       "</style>\n",
       "<table border=\"1\" class=\"dataframe\">\n",
       "  <thead>\n",
       "    <tr style=\"text-align: right;\">\n",
       "      <th></th>\n",
       "      <th>year</th>\n",
       "      <th>total_capacity</th>\n",
       "      <th>province</th>\n",
       "      <th>统计年份</th>\n",
       "      <th>行政区代码</th>\n",
       "      <th>二氧化硫排放量(千克)</th>\n",
       "    </tr>\n",
       "  </thead>\n",
       "  <tbody>\n",
       "    <tr>\n",
       "      <th>0</th>\n",
       "      <td>1999</td>\n",
       "      <td>0</td>\n",
       "      <td></td>\n",
       "      <td>1999</td>\n",
       "      <td>110101</td>\n",
       "      <td>639696.0</td>\n",
       "    </tr>\n",
       "    <tr>\n",
       "      <th>1</th>\n",
       "      <td>2000</td>\n",
       "      <td>0</td>\n",
       "      <td></td>\n",
       "      <td>2000</td>\n",
       "      <td>110101</td>\n",
       "      <td>2042361.0</td>\n",
       "    </tr>\n",
       "    <tr>\n",
       "      <th>2</th>\n",
       "      <td>2001</td>\n",
       "      <td>0</td>\n",
       "      <td></td>\n",
       "      <td>2001</td>\n",
       "      <td>110101</td>\n",
       "      <td>40594.0</td>\n",
       "    </tr>\n",
       "    <tr>\n",
       "      <th>3</th>\n",
       "      <td>2002</td>\n",
       "      <td>0</td>\n",
       "      <td></td>\n",
       "      <td>2002</td>\n",
       "      <td>110101</td>\n",
       "      <td>18246.0</td>\n",
       "    </tr>\n",
       "    <tr>\n",
       "      <th>4</th>\n",
       "      <td>2004</td>\n",
       "      <td>0</td>\n",
       "      <td></td>\n",
       "      <td>2004</td>\n",
       "      <td>110101</td>\n",
       "      <td>4742.0</td>\n",
       "    </tr>\n",
       "    <tr>\n",
       "      <th>...</th>\n",
       "      <td>...</td>\n",
       "      <td>...</td>\n",
       "      <td>...</td>\n",
       "      <td>...</td>\n",
       "      <td>...</td>\n",
       "      <td>...</td>\n",
       "    </tr>\n",
       "    <tr>\n",
       "      <th>42405</th>\n",
       "      <td>2006</td>\n",
       "      <td>270</td>\n",
       "      <td>Xinjiang</td>\n",
       "      <td>2006</td>\n",
       "      <td>659001</td>\n",
       "      <td>4446347.0</td>\n",
       "    </tr>\n",
       "    <tr>\n",
       "      <th>42406</th>\n",
       "      <td>2007</td>\n",
       "      <td>810</td>\n",
       "      <td>Xinjiang</td>\n",
       "      <td>2007</td>\n",
       "      <td>659001</td>\n",
       "      <td>5114438.0</td>\n",
       "    </tr>\n",
       "    <tr>\n",
       "      <th>42407</th>\n",
       "      <td>2008</td>\n",
       "      <td>1580</td>\n",
       "      <td>Xinjiang</td>\n",
       "      <td>2008</td>\n",
       "      <td>659001</td>\n",
       "      <td>4402624.0</td>\n",
       "    </tr>\n",
       "    <tr>\n",
       "      <th>42408</th>\n",
       "      <td>2009</td>\n",
       "      <td>1580</td>\n",
       "      <td>Xinjiang</td>\n",
       "      <td>2009</td>\n",
       "      <td>659001</td>\n",
       "      <td>4333340.0</td>\n",
       "    </tr>\n",
       "    <tr>\n",
       "      <th>42409</th>\n",
       "      <td>2010</td>\n",
       "      <td>2180</td>\n",
       "      <td>Xinjiang</td>\n",
       "      <td>2010</td>\n",
       "      <td>659001</td>\n",
       "      <td>5642247.0</td>\n",
       "    </tr>\n",
       "  </tbody>\n",
       "</table>\n",
       "<p>42410 rows × 6 columns</p>\n",
       "</div>"
      ],
      "text/plain": [
       "       year  total_capacity  province  统计年份   行政区代码  二氧化硫排放量(千克)\n",
       "0      1999               0            1999  110101     639696.0\n",
       "1      2000               0            2000  110101    2042361.0\n",
       "2      2001               0            2001  110101      40594.0\n",
       "3      2002               0            2002  110101      18246.0\n",
       "4      2004               0            2004  110101       4742.0\n",
       "...     ...             ...       ...   ...     ...          ...\n",
       "42405  2006             270  Xinjiang  2006  659001    4446347.0\n",
       "42406  2007             810  Xinjiang  2007  659001    5114438.0\n",
       "42407  2008            1580  Xinjiang  2008  659001    4402624.0\n",
       "42408  2009            1580  Xinjiang  2009  659001    4333340.0\n",
       "42409  2010            2180  Xinjiang  2010  659001    5642247.0\n",
       "\n",
       "[42410 rows x 6 columns]"
      ]
     },
     "execution_count": 150,
     "metadata": {},
     "output_type": "execute_result"
    }
   ],
   "source": [
    "dataset2"
   ]
  },
  {
   "cell_type": "code",
   "execution_count": 154,
   "metadata": {},
   "outputs": [],
   "source": [
    "res = dataset2.reindex(['year','行政区代码','total_capacity','二氧化硫排放量(千克)'], axis=1)"
   ]
  },
  {
   "cell_type": "code",
   "execution_count": 159,
   "metadata": {},
   "outputs": [],
   "source": [
    "res['lnso2'] = np.log(res['二氧化硫排放量(千克)'] + 1)"
   ]
  },
  {
   "cell_type": "code",
   "execution_count": 160,
   "metadata": {},
   "outputs": [],
   "source": [
    "res.to_excel('pollution_dataset7_25.xlsx', index=False)"
   ]
  },
  {
   "cell_type": "code",
   "execution_count": 158,
   "metadata": {},
   "outputs": [
    {
     "name": "stdout",
     "output_type": "stream",
     "text": [
      "<class 'pandas.core.frame.DataFrame'>\n",
      "Int64Index: 42410 entries, 0 to 42409\n",
      "Data columns (total 5 columns):\n",
      " #   Column          Non-Null Count  Dtype  \n",
      "---  ------          --------------  -----  \n",
      " 0   year            42410 non-null  int64  \n",
      " 1   行政区代码           42410 non-null  int64  \n",
      " 2   total_capacity  42410 non-null  int64  \n",
      " 3   二氧化硫排放量(千克)     42410 non-null  float64\n",
      " 4   lnso2           42410 non-null  float64\n",
      "dtypes: float64(2), int64(3)\n",
      "memory usage: 1.9 MB\n"
     ]
    }
   ],
   "source": [
    "res.info()"
   ]
  },
  {
   "cell_type": "code",
   "execution_count": null,
   "metadata": {},
   "outputs": [],
   "source": []
  }
 ],
 "metadata": {
  "kernelspec": {
   "display_name": "Python 3",
   "language": "python",
   "name": "python3"
  },
  "language_info": {
   "codemirror_mode": {
    "name": "ipython",
    "version": 3
   },
   "file_extension": ".py",
   "mimetype": "text/x-python",
   "name": "python",
   "nbconvert_exporter": "python",
   "pygments_lexer": "ipython3",
   "version": "3.8.5"
  }
 },
 "nbformat": 4,
 "nbformat_minor": 4
}
